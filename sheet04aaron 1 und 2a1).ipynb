{
 "cells": [
  {
   "cell_type": "markdown",
   "metadata": {},
   "source": [
    "Osnabrück University - A&C: Computational Cognition (Summer Term 2019)"
   ]
  },
  {
   "cell_type": "markdown",
   "metadata": {},
   "source": [
    "# Exercise Sheet 04: Analysis of behavioural data (part 2)"
   ]
  },
  {
   "cell_type": "markdown",
   "metadata": {},
   "source": [
    "## Introduction\n",
    "\n",
    "This week's sheet should be solved and handed in at 14:00 at **Tuesday, May 14, 2019**. If you need help (and Google and other resources were not enough), feel free to contact your tutors. Please push your results to your Github group folder.\n",
    "\n",
    "In this exercise sheet we will have a closer look on the data of Seahaven using analysing techniques like ANOVA, linear regression models and t-tests. For the correct results we will provide you with the finalized data that you only have to read in. Note that especially the data for assignment 2 and 3 underwent some further preprocesing than what we did in the previous exercise."
   ]
  },
  {
   "cell_type": "markdown",
   "metadata": {},
   "source": [
    "## Assignment 0: Peer review for sheet 03 [3 pts]"
   ]
  },
  {
   "cell_type": "markdown",
   "metadata": {},
   "source": [
    "Open an issue in the repository of the groups you have to check. The title of the issue should be your group name (e.g. \"Group1). Comment on what was good and what was bad, the aesthetics and ease of reading the plots, what you would have done differently and how many points you would give them for their solutions.\n",
    "\n",
    "| * |Group 1|Group 2|Group 3|Group 4|Group 5|Group 6|Group 7|Group 8|Group 9|Group 10|Group 11|\n",
    "| ------- | ----- | ----- | ----- | ----- | ----- | ----- | ----- | ----- | ----- | ------ | ------ |\n",
    "| check solutions of group: | 6, 2 | 10, 7  | 1, 6  | 8, 9 | 7, 1 | 9, 8 | 3, 10  | 5, 11  | 4, 3  | 11, 5 | 2, 4  |\n",
    "\n",
    "Please also evaluate nice coding style with up to two points."
   ]
  },
  {
   "cell_type": "code",
   "execution_count": 33,
   "metadata": {},
   "outputs": [],
   "source": [
    "import os\n",
    "import numpy as np\n",
    "import pandas as pd\n",
    "import matplotlib.pyplot as plt\n",
    "import seaborn as sns\n",
    "sns.set()\n",
    "from PIL import Image\n",
    "from scipy import stats\n",
    "from statsmodels.stats.anova import AnovaRM\n",
    "from statsmodels.stats.api import anova_lm\n",
    "from statsmodels.formula.api import ols\n",
    "import statsmodels.api as sm\n",
    "import ptitprince as pt\n",
    "\n",
    "# use pd.set_option here to display in a nice way\n",
    "# only display 30 rows\n",
    "pd.set_option(\"display.max_rows\", 30)\n",
    "# displays precision for decimal numbers\n",
    "pd.set_option(\"display.precision\", 3)"
   ]
  },
  {
   "cell_type": "markdown",
   "metadata": {},
   "source": [
    "## Assignment 1: Linear Regression Model Based on Performance and Reaction Time [2 pts]"
   ]
  },
  {
   "cell_type": "markdown",
   "metadata": {},
   "source": [
    "Although the linear regression in the prior exercise sheet (assignment 2.a) does not suggest a relationship between RT and performance (accuracy) for the relative task, we still want to check how much of the performance is explained by the RT. To do so we fit a linear regression model by using the ```ols``` method in the ```statsmodels``` library for both of the time conditions (3sec and Infinite).\n",
    "\n",
    "- Read ```AllData.csv``` into the dataframe ```AllData``` and take only the data of the relative task. \n",
    "- Split the data of the relative task: Create ```SecData``` with the data of the 3sec-condition and ```InfData``` with the data of the Infinite-condition.\n",
    "- For each dataset (SecData, InfData) use the ```statsmodels```’ ```ols``` function to initialise a simple linear regression model. <br> The ```ols``` function takes the following: **ols(\"y ~ X\", df)**, where X is the predictor variable (\"ReactionTime\"), y is the output variable (\"Performance\") and df is the dataframe of the used data.\n",
    "- Have a look on the R-squared values and interpret them.\n",
    "\n",
    "Take a look at the [ols documentation](https://www.statsmodels.org/stable/index.html) and the [patsy documentation](https://patsy.readthedocs.io/en/v0.1.0/formulas.html) to get a feeling how to use the function."
   ]
  },
  {
   "cell_type": "code",
   "execution_count": 34,
   "metadata": {},
   "outputs": [
    {
     "name": "stdout",
     "output_type": "stream",
     "text": [
      "                            OLS Regression Results                            \n",
      "==============================================================================\n",
      "Dep. Variable:            Performance   R-squared:                       0.946\n",
      "Model:                            OLS   Adj. R-squared:                  0.946\n",
      "Method:                 Least Squares   F-statistic:                     1686.\n",
      "Date:                Thu, 09 May 2019   Prob (F-statistic):           1.05e-62\n",
      "Time:                        12:35:17   Log-Likelihood:                 61.756\n",
      "No. Observations:                  97   AIC:                            -121.5\n",
      "Df Residuals:                      96   BIC:                            -118.9\n",
      "Df Model:                           1                                         \n",
      "Covariance Type:            nonrobust                                         \n",
      "================================================================================\n",
      "                   coef    std err          t      P>|t|      [0.025      0.975]\n",
      "--------------------------------------------------------------------------------\n",
      "ReactionTime     0.3033      0.007     41.065      0.000       0.289       0.318\n",
      "==============================================================================\n",
      "Omnibus:                        3.042   Durbin-Watson:                   2.277\n",
      "Prob(Omnibus):                  0.219   Jarque-Bera (JB):                2.929\n",
      "Skew:                           0.365   Prob(JB):                        0.231\n",
      "Kurtosis:                       2.563   Cond. No.                         1.00\n",
      "==============================================================================\n",
      "\n",
      "Warnings:\n",
      "[1] Standard Errors assume that the covariance matrix of the errors is correctly specified.\n",
      "                            OLS Regression Results                            \n",
      "==============================================================================\n",
      "Dep. Variable:            Performance   R-squared:                       0.854\n",
      "Model:                            OLS   Adj. R-squared:                  0.853\n",
      "Method:                 Least Squares   F-statistic:                     562.8\n",
      "Date:                Thu, 09 May 2019   Prob (F-statistic):           6.20e-42\n",
      "Time:                        12:35:17   Log-Likelihood:                 9.5493\n",
      "No. Observations:                  97   AIC:                            -17.10\n",
      "Df Residuals:                      96   BIC:                            -14.52\n",
      "Df Model:                           1                                         \n",
      "Covariance Type:            nonrobust                                         \n",
      "================================================================================\n",
      "                   coef    std err          t      P>|t|      [0.025      0.975]\n",
      "--------------------------------------------------------------------------------\n",
      "ReactionTime     0.1348      0.006     23.723      0.000       0.124       0.146\n",
      "==============================================================================\n",
      "Omnibus:                        1.526   Durbin-Watson:                   1.785\n",
      "Prob(Omnibus):                  0.466   Jarque-Bera (JB):                1.279\n",
      "Skew:                          -0.281   Prob(JB):                        0.527\n",
      "Kurtosis:                       3.008   Cond. No.                         1.00\n",
      "==============================================================================\n",
      "\n",
      "Warnings:\n",
      "[1] Standard Errors assume that the covariance matrix of the errors is correctly specified.\n"
     ]
    }
   ],
   "source": [
    "# set path of dataset\n",
    "path = 'Data/AllData.csv'\n",
    "#read in required csv file\n",
    "AllData = pd.read_csv(path)\n",
    "#Take only data of relative task\n",
    "AllData = AllData.loc[AllData['Task'] == 'Relative']\n",
    "#split data set in 3 sec time condition\n",
    "SecData = AllData.loc[AllData['Time'] == '3sec']\n",
    "#and infinite time condition\n",
    "InfData = AllData.loc[AllData['Time'] == 'Infinite']\n",
    "\n",
    "#perform lin reg on 3sec data set y=performance, x=ReactionTime\n",
    "linreg3sec = sm.OLS(SecData['Performance'],SecData['ReactionTime'])\n",
    "result3sec = linreg3sec.fit()\n",
    "print(result3sec.summary())\n",
    "#perform lin reg on infinite data set y=performance, x=RT\n",
    "linregInf = sm.OLS(InfData['Performance'], InfData['ReactionTime'])\n",
    "resultInf = linregInf.fit()\n",
    "print(resultInf.summary())"
   ]
  },
  {
   "cell_type": "code",
   "execution_count": 35,
   "metadata": {},
   "outputs": [],
   "source": [
    "#In statistics, the coefficient of determination, denoted R2 or r2 and pronounced \"R squared\", is the\n",
    "#proportion of the variance in the dependent variable that is predictable from the independent variable(s). \n",
    "#(from wikipedia)\n",
    "#Performance is our dependent variable, RT our independent variable. In the 3sec condition 94% of the varia-\n",
    "#nce in Performance could be explained by the RT, in the Infinite time condition it was 85%.\n",
    "#This means that in the 3sec condition there was a stronger relation of RT explaining the variance of\n",
    "#the peformance."
   ]
  },
  {
   "cell_type": "markdown",
   "metadata": {},
   "source": [
    "## Assignment 2: Testing Task Performance via ANOVA [5 pts]"
   ]
  },
  {
   "cell_type": "markdown",
   "metadata": {},
   "source": [
    "For this assignment we will have a look on the whole data without caring about the different measurements."
   ]
  },
  {
   "cell_type": "markdown",
   "metadata": {},
   "source": [
    "### a) Task Performance [2 pts]"
   ]
  },
  {
   "cell_type": "markdown",
   "metadata": {},
   "source": [
    "Refering to our plots of the prior exercise sheet (assignment 2.b), it is a good idea to have a closer look on the task performance (accuracy) to check if there are some **significant effects, i.e. p < 0.05**. To do so we will first of all visualize the data with a raincloud-plot using ```ptitprince.RainCloud``` as a density estimate and then calculate the ANOVAs. Make sure to run ```pip install ptitprince``` in your activated acc environment beforehand.\n",
    "\n",
    "- Read ```MapPerformances.csv``` into the dataframe ```AllPerformances```.\n",
    "- Make a RainCloud-plot of the tasks (x-axis) and performance (y-axis) for both time conditions (3sec / Infinite). The y-axis should start at 0.25 and end at 0.75.\n",
    "- Have a look at ```help(pt.RainCloud)``` to get an overview of the different parameters that you can modify to create a nice raincloud-plot."
   ]
  },
  {
   "cell_type": "code",
   "execution_count": 70,
   "metadata": {},
   "outputs": [
    {
     "data": {
      "image/png": "[encoded data removed]",
      "text/plain": [
       "<Figure size 1080x360 with 1 Axes>"
      ]
     },
     "metadata": {},
     "output_type": "display_data"
    }
   ],
   "source": [
    "#help(pt.RainCloud)\n",
    "# set path of dataset\n",
    "path = 'Data/MapPerformances.csv'\n",
    "#read in required csv file\n",
    "AllPerformances = pd.read_csv(path)\n",
    "#make RainCloud of AllPerformances DF; plot with Task on x and Performance on y axis\n",
    "#adjust parameters to make it a beautiful plot\n",
    "ax = pt.RainCloud(AllPerformances['Task'],AllPerformances['Performance'],\n",
    "                palette = 'Set2', \n",
    "                width_viol = .6,\n",
    "                width_box = .2,\n",
    "                figsize = (15,5),\n",
    "                move = .0)"
   ]
  },
  {
   "cell_type": "markdown",
   "metadata": {},
   "source": [
    "Using the data of ```AllPerformances``` we now want to calculate a **two-way ANOVA**. A two-way ANOVA is a statistical test used to determine the effect of two nominal predictor variables (= independent variables) on a continuous outcome variable (= dependent variable).\n",
    "\n",
    "H$_{01}$ = The performance is the same for the different tasks. <br>\n",
    "H$_{02}$ = The performance is the same for the different time conditions. <br>\n",
    "H$_{03}$ = An interaction effect does not exist.\n",
    "\n",
    "- Given the null hypotheses above, what is the outcome variable and what are the predictor variables that you have to use for the two-way ANOVA?\n",
    "- Use ```statsmodels```’ ```ols``` function to create an ordinary least squares model as a precursor to the ANOVA. <br> The ```ols``` function takes the following: **ols(\"y ~ C(X1) * C(X2)\", df)**, where X1 and X2 are the predictor variables, y is the output variable and df is the dataframe of the used data.\n",
    "- With the result of the ols calculate a **type 2** two-way ANOVA using ```statsmodels```’ ```anova_lm```.\n",
    "- Based on the ANOVA table explain which of the null hypotheses can be rejected. What does this outcome tell you?\n",
    "\n",
    "Take a look at the [ols documentation](https://www.statsmodels.org/stable/index.html), the [patsy documentation](https://patsy.readthedocs.io/en/v0.1.0/formulas.html) and the [anova_lm documentation](http://www.statsmodels.org/dev/anova.html) to get a feeling how to use these functions."
   ]
  },
  {
   "cell_type": "code",
   "execution_count": null,
   "metadata": {},
   "outputs": [],
   "source": [
    "# TODO"
   ]
  },
  {
   "cell_type": "markdown",
   "metadata": {},
   "source": [
    "### b) Task Performance: 3sec Condition vs. Infinite Condition [3 pts]"
   ]
  },
  {
   "cell_type": "markdown",
   "metadata": {},
   "source": [
    "Let's take a closer look onto the single time conditions by calculating a **one-way ANOVA** for each time condition (3sec and Infinite). A one-way ANOVA is a statistical test used to determine the effect of one nominal predictor variable (= independent variable) on a continuous outcome variable (= dependent variable). \n",
    "\n",
    "H$_{01}$ = The performance is the same for the different tasks. <br>\n",
    "\n",
    "- Use the data of ```AllPerformances``` and split it: Create ```SecPerformances``` with the data of the 3sec-condition and ```InfPerformances``` with the data of the Infinite-condition.\n",
    "- Given the null hypothesis above, what is the outcome variable and what is the predictor variable that you have to use for the one-way ANOVAs?\n",
    "\n",
    "Do for each dataset (SecPerformances, InfPerformances):\n",
    "\n",
    "- Use ```statsmodels```’ ```ols``` function to create an ordinary least squares model as a precursor to the ANOVA. The ```ols``` function takes the formula <br> The ```ols``` function takes the following: **ols(\"y ~ C(X)\", df)**, where X is the predictor variable, y is the output variable and df is the dataframe of the used data.\n",
    "- With the result of the ols calculate a **type 1** one-way ANOVA using ```statsmodels```’ ```anova_lm```.\n",
    "- Based on the ANOVA table explain if the null hypothesis can be rejected. What does this outcome tell you?\n",
    "\n",
    "Take a look at the [ols documentation](https://www.statsmodels.org/stable/index.html) and the [patsy documentation](https://patsy.readthedocs.io/en/v0.1.0/formulas.html) to get a feeling how to use this function."
   ]
  },
  {
   "cell_type": "code",
   "execution_count": null,
   "metadata": {},
   "outputs": [],
   "source": [
    "# TODO"
   ]
  },
  {
   "cell_type": "markdown",
   "metadata": {},
   "source": [
    "If there is a significant outcome for one of the datasets (SecPerformances or InfPerformances), make a post-hoc paired t-test using this dataset.\n",
    "\n",
    "- Extract the performances for each task (Absolute, Relative, Pointing).\n",
    "- Compare the performances of the different tasks pairwise using ```scipy.stats.ttest_rel```\n",
    "- Why do we need to do further post-hoc tests and what do they tell us?"
   ]
  },
  {
   "cell_type": "code",
   "execution_count": null,
   "metadata": {},
   "outputs": [],
   "source": [
    "# TODO\n",
    "print(\"Absolute - Relative: \"+str(stats.ttest_rel())\n",
    "print(\"Absolute - Pointing: \"+str(stats.ttest_rel())\n",
    "print(\"Relative - Pointing: \"+str(stats.ttest_rel())"
   ]
  },
  {
   "cell_type": "markdown",
   "metadata": {},
   "source": [
    "## Assignment 3: Testing Task Performance via Repeated Measures ANOVA [3 pts]"
   ]
  },
  {
   "cell_type": "markdown",
   "metadata": {},
   "source": [
    "Now we want to take a closer look on the task performance (accuracy) also taking the different measurements into account to check if there are some **significant effects, i.e. p < 0.05**. For this purpose we have the averaged performances over 15 repeated measure subjects for three measurements. We will first of all visualize the averaged performances for each task for the three measurements with a catplot and then calculate a repeated measures ANOVA. \n",
    "\n",
    "- Read ```RepeatedPerformances.csv``` into the dataframe ```RepeatedPerformances```.\n",
    "- Make a catplot (kind='barplot') of the conditions (x-axis) and the performance (y-axis). The y-axis should start at 0 and end at 0.75.\n",
    "- Please note that the conditions in the dataframe correspond to the given \"conditions\" list."
   ]
  },
  {
   "cell_type": "code",
   "execution_count": null,
   "metadata": {},
   "outputs": [],
   "source": [
    "conditions = [\"Absolute - 3sec \",\"Absolute - Infinite\",\"Relative - 3sec \",\"Relative - Infinite\",\"Pointing 3sec\",\"Pointing - Infinite\"]\n",
    "\n",
    "# TODO"
   ]
  },
  {
   "cell_type": "code",
   "execution_count": null,
   "metadata": {},
   "outputs": [],
   "source": [
    "# create a usable dataframe for the following analysis\n",
    "repgroup = RepeatedPerformances.groupby(['Measurement','Subject','Condition'], as_index=False)['Performance'].mean()\n",
    "\n",
    "RepeatedDf = pd.DataFrame(columns={'Measurement','Subject','Task','Time','Performance'})\n",
    "tasks = ['Absolute','Absolute','Relative','Relative','Pointing','Pointing']\n",
    "times = ['3sec','Infinite','3sec','Infinite','3sec','Infinite']\n",
    "for i in range(270):\n",
    "    RepeatedDf = RepeatedDf.append({'Subject':repgroup['Subject'][i],'Measurement':repgroup['Measurement'][i],'Task':tasks[repgroup['Condition'][i]],'Time':times[repgroup['Condition'][i]],'Performance':repgroup['Performance'][i]},ignore_index=True)\n",
    "    "
   ]
  },
  {
   "cell_type": "markdown",
   "metadata": {},
   "source": [
    "Using the data of ```RepeatedDf``` we want to calculate a **(three-way) repeated measures ANOVA**. A (three-way) repeated measures ANOVA in general is a statistical test used to determine the effect of three nominal predictor variables (= within-subject factors) on a continuous outcome variable (= dependent variable). \n",
    "\n",
    "\n",
    "\n",
    "- What is the dependent variable and what are the within-subject factors that you have to use for the repeated measures ANOVA?\n",
    "- Formulate the null hypotheses that the repeated measures ANOVA has to test.\n",
    "- Calculate a repeated measures ANOVA using ```statsmodels```' ```AnovaRM```. \n",
    "- Based on the ANOVA table explain which of the null hypotheses can be rejected. What does this outcome tell you?\n",
    "\n",
    "Take a look at the [ANOVARM documentation](http://www.statsmodels.org/dev/generated/statsmodels.stats.anova.AnovaRM.html#statsmodels.stats.anova.AnovaRM) to get a feeling how to use this function."
   ]
  },
  {
   "cell_type": "code",
   "execution_count": null,
   "metadata": {},
   "outputs": [],
   "source": [
    "# TODO"
   ]
  },
  {
   "cell_type": "markdown",
   "metadata": {},
   "source": [
    "## Assignment 4: Spatial coverage of Seahaven [Bonus]"
   ]
  },
  {
   "cell_type": "markdown",
   "metadata": {},
   "source": [
    "To get a better feeling of the spatial coverage of Seahaven, we can create an overview of the houses that the subjects have seen. With a colormap it is easy to display the spatial coverage in an intuitive way.\n",
    "\n",
    "- Open the image ```map5.png``` as ```SeahavenMap``` and read ```Clicks.csv``` into a dataframe ```NumClicks```.\n",
    "- Draw a solid circle for each house. Use the x- and y-coordinates of ```NumClicks``` for the positioning of the circles.\n",
    "- The column \"clicks\" from ```NumClicks``` displays how many subjects had visited the respective house. Use these click-values to calculate each circle's colour:\n",
    "\n",
    "$CircleColor = cmap((click[i]-min(clicks))/(max(clicks)-min(clicks)))$\n",
    "\n",
    "$clicks$: list/array of all click-values from the dataframe ```NumClicks``` <br>\n",
    "$click[i]$: a certain click-value from the dataframe ```NumClicks``` at position $i$"
   ]
  },
  {
   "cell_type": "code",
   "execution_count": null,
   "metadata": {},
   "outputs": [],
   "source": [
    "# open the files and extract the necessary data\n",
    "# TODO\n",
    "\n",
    "\n",
    "# set everything up to display the Seahaven Map\n",
    "fig = plt.figure(figsize=(15,15))\n",
    "SeahavenMap = SeahavenMap.resize((450,500))\n",
    "ax = plt.subplot2grid((10, 10), (0, 0), colspan=9,rowspan=10)\n",
    "plt.imshow(SeahavenMap, aspect = 'equal')\n",
    "\n",
    "# choose a colormap for the circles that display the houses\n",
    "cmap = plt.cm.get_cmap('Reds')\n",
    "\n",
    "# draw the circles and give them the right color (using the given colormap)\n",
    "# TODO\n",
    "\n",
    "\n",
    "# set everything up to display the Colormap / legend for the circle's colors\n",
    "a=np.outer(np.arange(0,1,0.01),np.ones(3))\n",
    "ax2 = plt.subplot2grid((10, 10), (0, 9),rowspan=10)\n",
    "plt.imshow(a,aspect='auto',cmap='Reds',origin=\"lower\")\n",
    "ax2.get_xaxis().set_ticks([])\n",
    "ax2.get_yaxis().set_ticks(np.linspace(0,99,10))\n",
    "ax2.get_yaxis().set_ticklabels(np.linspace((min(clicks)/64)*100,(max(clicks)/64)*100,10,dtype=int))\n",
    "ax2.yaxis.tick_right()\n",
    "ax2.set_ylabel(\"Percentage of Subjects That Have Seen This House\",rotation=270, fontsize=15, labelpad=20)\n",
    "ax2.yaxis.set_label_position(\"right\")\n",
    "plt.show()"
   ]
  }
 ],
 "metadata": {
  "kernelspec": {
   "display_name": "Python 3",
   "language": "python",
   "name": "python3"
  },
  "language_info": {
   "codemirror_mode": {
    "name": "ipython",
    "version": 3
   },
   "file_extension": ".py",
   "mimetype": "text/x-python",
   "name": "python",
   "nbconvert_exporter": "python",
   "pygments_lexer": "ipython3",
   "version": "3.6.7"
  }
 },
 "nbformat": 4,
 "nbformat_minor": 2
}
